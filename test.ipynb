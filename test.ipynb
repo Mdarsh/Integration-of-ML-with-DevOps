{
 "cells": [
  {
   "cell_type": "code",
   "execution_count": null,
   "metadata": {},
   "outputs": [],
   "source": [
    "import keras"
   ]
  },
  {
   "cell_type": "code",
   "execution_count": 1,
   "metadata": {},
   "outputs": [
    {
     "name": "stderr",
     "output_type": "stream",
     "text": [
      "Using TensorFlow backend.\n"
     ]
    }
   ],
   "source": [
    "from keras.datasets import mnist\n",
    "import numpy"
   ]
  },
  {
   "cell_type": "code",
   "execution_count": 2,
   "metadata": {},
   "outputs": [],
   "source": [
    "def train_model(neurons) : \n",
    "    model.add(Dense(units = neurons , input_dim = 28*28 , activation = 'relu'))\n",
    "    # model.summary()\n",
    "    model.add(Dense(units=200 , input_dim = 28*28 , activation = 'relu'))\n",
    "    # model.summary()\n",
    "    model.add(Dense(units=60 , input_dim = 28*28 , activation = 'relu'))\n",
    "    # model.summary()\n",
    "    model.add(Dense(units=10 , input_dim = 28*28 , activation = 'softmax'))\n",
    "    # model.summary()\n",
    "    from keras.optimizers import Adam\n",
    "    model.compile( optimizer= \"Adam\" , loss='categorical_crossentropy', \n",
    "                 metrics=['accuracy'] )\n",
    "    \n",
    "    return model"
   ]
  },
  {
   "cell_type": "code",
   "execution_count": null,
   "metadata": {},
   "outputs": [],
   "source": [
    "def validate(fit_model):\n",
    "   # text = fit_model.history\n",
    "    accuracy = text['accuracy'][0]\n",
    "    accuracy = accuracy * 100\n",
    "    accuracy = int(accuracy)\n",
    "    accuracy = str(accuracy)\n",
    "    f= open(\"accuracy.txt\",\"w+\")\n",
    "    f.write(accuracy)\n",
    "    f.close()\n",
    "    print(accuracy)\n",
    "    return accuracy"
   ]
  },
  {
   "cell_type": "code",
   "execution_count": null,
   "metadata": {},
   "outputs": [],
   "source": [
    "def reset_weights(fit_model):\n",
    "    weights = fit_model.get_weights()\n",
    "    weights = [[j*0 for j in i] for i in weights]\n",
    "    fit_model.set_weights(weights)\n",
    "    print(\"weights reseted successfully\")\n",
    "    return fit_model"
   ]
  },
  {
   "cell_type": "code",
   "execution_count": 3,
   "metadata": {},
   "outputs": [],
   "source": [
    "dataset = mnist.load_data(\"mymnist.data\")\n",
    "train, test = dataset\n",
    "train_X , train_y = train\n",
    "test_X , test_y = test\n",
    "import matplotlib.pyplot as plt\n",
    "test_X = test_X.reshape(-1 , 28*28)\n",
    "train_X = train_X.reshape(-1 ,  28*28)\n",
    "test_X = test_X.astype(\"float32\")\n",
    "train_X = train_X.astype(\"float32\")\n",
    "from keras.utils.np_utils import to_categorical\n",
    "test_y = to_categorical(test_y)\n",
    "train_y = to_categorical(train_y)"
   ]
  },
  {
   "cell_type": "code",
   "execution_count": 4,
   "metadata": {},
   "outputs": [
    {
     "name": "stdout",
     "output_type": "stream",
     "text": [
      "Epoch 1/1\n",
      "60000/60000 [==============================] - 6s 92us/step - loss: 1.1848 - accuracy: 0.5777\n"
     ]
    }
   ],
   "source": [
    "from keras.models import Sequential\n",
    "model = Sequential()\n",
    "neurons = 10\n",
    "from keras.layers import Dense\n",
    "model=train_model(neurons)\n",
    "fit_model = model.fit(train_X ,  train_y , epochs = 1)\n",
    "#accuracy = validate(fit_model)"
   ]
  },
  {
   "cell_type": "code",
   "execution_count": 5,
   "metadata": {},
   "outputs": [
    {
     "data": {
      "text/plain": [
       "keras.engine.sequential.Sequential"
      ]
     },
     "execution_count": 5,
     "metadata": {},
     "output_type": "execute_result"
    }
   ],
   "source": [
    "type(model)"
   ]
  },
  {
   "cell_type": "code",
   "execution_count": null,
   "metadata": {},
   "outputs": [],
   "source": []
  },
  {
   "cell_type": "code",
   "execution_count": null,
   "metadata": {},
   "outputs": [],
   "source": [
    "while int(accuracy) < 90 :\n",
    "    print(\"Model trained successfully but accuracy is less than 95%\")\n",
    "    fit_model=reset_weights(fit_model)\n",
    "    fit_model=train_model(neurons+10)\n",
    "    accuracy=validate(fit_model)\n",
    "\n",
    "print(\"Code run successfully \")"
   ]
  },
  {
   "cell_type": "code",
   "execution_count": 6,
   "metadata": {},
   "outputs": [],
   "source": [
    "from keras.backend import clear_session"
   ]
  },
  {
   "cell_type": "code",
   "execution_count": 12,
   "metadata": {},
   "outputs": [],
   "source": [
    "import keras\n"
   ]
  },
  {
   "cell_type": "code",
   "execution_count": 14,
   "metadata": {},
   "outputs": [],
   "source": [
    "model = keras.backend.clear_session()"
   ]
  },
  {
   "cell_type": "code",
   "execution_count": null,
   "metadata": {},
   "outputs": [],
   "source": []
  }
 ],
 "metadata": {
  "kernelspec": {
   "display_name": "Python 3",
   "language": "python",
   "name": "python3"
  },
  "language_info": {
   "codemirror_mode": {
    "name": "ipython",
    "version": 3
   },
   "file_extension": ".py",
   "mimetype": "text/x-python",
   "name": "python",
   "nbconvert_exporter": "python",
   "pygments_lexer": "ipython3",
   "version": "3.7.7"
  }
 },
 "nbformat": 4,
 "nbformat_minor": 4
}
